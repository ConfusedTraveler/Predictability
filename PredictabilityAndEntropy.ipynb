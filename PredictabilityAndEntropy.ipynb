{
 "cells": [
  {
   "cell_type": "code",
   "execution_count": 1,
   "metadata": {},
   "outputs": [],
   "source": [
    "from Predictability import *"
   ]
  },
  {
   "cell_type": "markdown",
   "metadata": {},
   "source": [
    "## Entropy "
   ]
  },
  {
   "cell_type": "code",
   "execution_count": 2,
   "metadata": {},
   "outputs": [
    {
     "data": {
      "text/plain": [
       "(0.8941321735745001, 0.30092484657139584, 1.7712193023031124)"
      ]
     },
     "execution_count": 2,
     "metadata": {},
     "output_type": "execute_result"
    }
   ],
   "source": [
    "Real_Entropy([1]*5), Real_Entropy([1]*50), Real_Entropy(list(np.random.randint(0, 10, 10)))"
   ]
  },
  {
   "cell_type": "markdown",
   "metadata": {},
   "source": [
    "## Predictability"
   ]
  },
  {
   "cell_type": "code",
   "execution_count": 3,
   "metadata": {},
   "outputs": [
    {
     "name": "stdout",
     "output_type": "stream",
     "text": [
      "[6, 1, 1, 9, 0, 5, 1, 2, 3, 3, 0, 4, 7, 0, 7, 6, 3, 4, 7, 5, 4, 8, 7, 0, 7, 6, 5, 2, 3, 8]\n",
      "N = 10, S = 1.7901038850853448\n",
      "Pi^max = 0.7095281676\n"
     ]
    }
   ],
   "source": [
    "timeseries = list(np.random.randint(0, 10, 30))\n",
    "print (timeseries)\n",
    "N = len(np.unique(timeseries))\n",
    "S = Real_Entropy(timeseries)\n",
    "print (\"N = %s, S = %s\"%(N, S))\n",
    "print (\"Pi^max = %s\"% maximum_predictability(N, S))"
   ]
  },
  {
   "cell_type": "code",
   "execution_count": 4,
   "metadata": {},
   "outputs": [
    {
     "name": "stdout",
     "output_type": "stream",
     "text": [
      "[1, 2, 3, 1, 2, 3, 1, 2, 3, 1, 2, 3, 1, 2, 3, 1, 2, 3, 1, 2, 3, 1, 2, 3, 1, 2, 3, 1, 2, 3]\n",
      "N = 3, S = 0.4534929842216207\n",
      "Pi^max = 0.9262546479\n"
     ]
    }
   ],
   "source": [
    "timeseries = [1, 2, 3]*10\n",
    "print (timeseries)\n",
    "N = len(np.unique(timeseries))\n",
    "S = Real_Entropy(timeseries)\n",
    "print (\"N = %s, S = %s\"%(N, S))\n",
    "print (\"Pi^max = %s\"% get_predictability(timeseries))"
   ]
  },
  {
   "cell_type": "code",
   "execution_count": null,
   "metadata": {},
   "outputs": [],
   "source": []
  }
 ],
 "metadata": {
  "kernelspec": {
   "display_name": "Python 3",
   "language": "python",
   "name": "python3"
  },
  "language_info": {
   "codemirror_mode": {
    "name": "ipython",
    "version": 3
   },
   "file_extension": ".py",
   "mimetype": "text/x-python",
   "name": "python",
   "nbconvert_exporter": "python",
   "pygments_lexer": "ipython3",
   "version": "3.7.5"
  }
 },
 "nbformat": 4,
 "nbformat_minor": 2
}
