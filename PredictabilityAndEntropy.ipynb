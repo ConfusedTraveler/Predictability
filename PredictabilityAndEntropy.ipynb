{
 "cells": [
  {
   "cell_type": "code",
   "execution_count": 3,
   "metadata": {},
   "outputs": [],
   "source": [
    "from Predictability import *"
   ]
  },
  {
   "cell_type": "markdown",
   "metadata": {},
   "source": [
    "## Entropy "
   ]
  },
  {
   "cell_type": "code",
   "execution_count": 4,
   "metadata": {},
   "outputs": [
    {
     "data": {
      "text/plain": [
       "(0.8941321735745001, 0.30092484657139584, 1.64470363785289)"
      ]
     },
     "execution_count": 4,
     "metadata": {},
     "output_type": "execute_result"
    }
   ],
   "source": [
    "Real_Entropy([1]*5), Real_Entropy([1]*50), Real_Entropy(list(np.random.randint(0, 10, 10)))"
   ]
  },
  {
   "cell_type": "code",
   "execution_count": 7,
   "metadata": {},
   "outputs": [
    {
     "name": "stdout",
     "output_type": "stream",
     "text": [
      "\n",
      "N = 1:\n",
      "--------------------\n",
      "\n",
      "N = 2:\n",
      "--------------------\n",
      "\n",
      "N = 3:\n",
      "--------------------\n",
      "k =  1, 熵 = 1.2516 bits\n",
      "\n",
      "N = 4:\n",
      "--------------------\n",
      "k =  1, 熵 = 1.7925 bits\n",
      "k =  2, 熵 = 1.0000 bits\n",
      "\n",
      "N = 5:\n",
      "--------------------\n",
      "k =  1, 熵 = 2.1710 bits\n",
      "k =  2, 熵 = 1.8389 bits\n",
      "\n",
      "N = 6:\n",
      "--------------------\n",
      "k =  1, 熵 = 2.4662 bits\n",
      "k =  2, 熵 = 2.2516 bits\n",
      "k =  3, 熵 = 1.5850 bits\n",
      "\n",
      "N = 7:\n",
      "--------------------\n",
      "k =  1, 熵 = 2.7095 bits\n",
      "k =  2, 熵 = 2.5518 bits\n",
      "k =  3, 熵 = 2.2359 bits\n",
      "\n",
      "N = 8:\n",
      "--------------------\n",
      "k =  1, 熵 = 2.9168 bits\n",
      "k =  2, 熵 = 2.7925 bits\n",
      "k =  3, 熵 = 2.5805 bits\n",
      "k =  4, 熵 = 2.0000 bits\n",
      "\n",
      "N = 9:\n",
      "--------------------\n",
      "k =  1, 熵 = 3.0975 bits\n",
      "k =  2, 熵 = 2.9952 bits\n",
      "k =  3, 熵 = 2.8366 bits\n",
      "k =  4, 熵 = 2.5390 bits\n",
      "\n",
      "N = 10:\n",
      "--------------------\n",
      "k =  1, 熵 = 3.2579 bits\n",
      "k =  2, 熵 = 3.1710 bits\n",
      "k =  3, 熵 = 3.0449 bits\n",
      "k =  4, 熵 = 2.8389 bits\n",
      "k =  5, 熵 = 2.3219 bits\n"
     ]
    }
   ],
   "source": [
    "import numpy as np\n",
    "\n",
    "def shannon_entropy(probabilities):\n",
    "    \"\"\"计算随机变量的香农熵\"\"\"\n",
    "    probabilities = np.array(probabilities)\n",
    "    entropy = 0\n",
    "    for p in probabilities[probabilities > 0]:\n",
    "        entropy -= p * np.log2(p)\n",
    "    return entropy\n",
    "\n",
    "def generate_two_level_distribution(N, k, p):\n",
    "    \"\"\"生成两级概率分布并计算熵\"\"\"\n",
    "    if k > N or p <= 0 or p >= 1:\n",
    "        return None\n",
    "    \n",
    "    q = (1 - k*p) / (N-k)\n",
    "    \n",
    "    if q < 0 or p <= q:\n",
    "        return None\n",
    "    \n",
    "    probabilities = np.zeros(N)\n",
    "    probabilities[:k] = p\n",
    "    probabilities[k:] = q\n",
    "    \n",
    "    return shannon_entropy(probabilities)\n",
    "\n",
    "# 测试N从1到10的情况\n",
    "for N in range(1, 11):\n",
    "    print(f\"\\nN = {N}:\")\n",
    "    print(\"-\" * 20)\n",
    "    for k in range(1, N):\n",
    "        p = 2 / N\n",
    "        entropy = generate_two_level_distribution(N, k, p)\n",
    "        if entropy is not None:\n",
    "            print(f\"k = {k:2d}, 熵 = {entropy:.4f} bits\")"
   ]
  },
  {
   "cell_type": "markdown",
   "metadata": {},
   "source": [
    "## Predictability"
   ]
  },
  {
   "cell_type": "code",
   "execution_count": 3,
   "metadata": {},
   "outputs": [
    {
     "name": "stdout",
     "output_type": "stream",
     "text": [
      "[6, 1, 1, 9, 0, 5, 1, 2, 3, 3, 0, 4, 7, 0, 7, 6, 3, 4, 7, 5, 4, 8, 7, 0, 7, 6, 5, 2, 3, 8]\n",
      "N = 10, S = 1.7901038850853448\n",
      "Pi^max = 0.7095281676\n"
     ]
    }
   ],
   "source": [
    "timeseries = list(np.random.randint(0, 10, 30))\n",
    "print (timeseries)\n",
    "N = len(np.unique(timeseries))\n",
    "S = Real_Entropy(timeseries)\n",
    "print (\"N = %s, S = %s\"%(N, S))\n",
    "print (\"Pi^max = %s\"% maximum_predictability(N, S))"
   ]
  },
  {
   "cell_type": "code",
   "execution_count": 4,
   "metadata": {},
   "outputs": [
    {
     "name": "stdout",
     "output_type": "stream",
     "text": [
      "[1, 2, 3, 1, 2, 3, 1, 2, 3, 1, 2, 3, 1, 2, 3, 1, 2, 3, 1, 2, 3, 1, 2, 3, 1, 2, 3, 1, 2, 3]\n",
      "N = 3, S = 0.4534929842216207\n",
      "Pi^max = 0.9262546479\n"
     ]
    }
   ],
   "source": [
    "timeseries = [1, 2, 3]*10\n",
    "print (timeseries)\n",
    "N = len(np.unique(timeseries))\n",
    "S = Real_Entropy(timeseries)\n",
    "print (\"N = %s, S = %s\"%(N, S))\n",
    "print (\"Pi^max = %s\"% get_predictability(timeseries))"
   ]
  }
 ],
 "metadata": {
  "kernelspec": {
   "display_name": "base",
   "language": "python",
   "name": "python3"
  },
  "language_info": {
   "codemirror_mode": {
    "name": "ipython",
    "version": 3
   },
   "file_extension": ".py",
   "mimetype": "text/x-python",
   "name": "python",
   "nbconvert_exporter": "python",
   "pygments_lexer": "ipython3",
   "version": "3.11.5"
  }
 },
 "nbformat": 4,
 "nbformat_minor": 2
}
